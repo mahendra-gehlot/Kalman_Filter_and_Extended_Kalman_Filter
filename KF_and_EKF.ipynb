{
  "cells": [
    {
      "cell_type": "markdown",
      "metadata": {
        "id": "39SoiSGWYD0O"
      },
      "source": [
        "**Kalman Filter and its variant**\n",
        "\n",
        "In this repo, I will implement a kalman filter, extended kalman filter \n",
        "and compare their performance.\n",
        "\n",
        "The system is a simple pendulum and the filters are to track the pendulum's state given by the tuple of its angle and angular velocity (angle is the deviation from the vertical)."
      ]
    },
    {
      "cell_type": "code",
      "execution_count": null,
      "metadata": {
        "id": "Ghqi6Xn7zK6z"
      },
      "outputs": [],
      "source": [
        "%matplotlib inline"
      ]
    },
    {
      "cell_type": "code",
      "execution_count": null,
      "metadata": {
        "id": "2uHjXe1T6v8i"
      },
      "outputs": [],
      "source": [
        "import numpy as np\n",
        "import math\n",
        "from scipy import linalg\n",
        "import matplotlib.pyplot as plt"
      ]
    },
    {
      "cell_type": "markdown",
      "metadata": {
        "id": "IM2-mLQhrpJx"
      },
      "source": [
        "**Simple pendulum Model**\n",
        "\n",
        "$l$ : Length of pendulum\n",
        "\n",
        "$m$ : Mass of pendulum\n",
        "\n",
        "$G$ : Acceleration due to gravity\n",
        "\n",
        "$dt$ : Time step\n",
        "\n",
        "$\\theta_n$ : Angular deviation from vertical at timestep $n$(counter clockwise is positive)\n",
        "\n",
        "$\\dot{\\theta}_n$: Angular velocity at timestep $n$\n",
        "\n",
        "$\\theta_{n+1} = \\theta_n + \\dot{\\theta}_n  dt $\n",
        "\n",
        "$\\dot{\\theta}_{n+1} = \\dot{\\theta}_n - \\frac {G} {l} \\sin(\\theta_n) dt$\n",
        "\n",
        "Measurment of angle:\n",
        "\n",
        "$z_n = C*\\begin{bmatrix}\\theta_n\\\\ \\dot{\\theta}_n \\end{bmatrix} + q$\n",
        "\n",
        "where $q \\sim N(0,Q)$ and $Q$ is a 1x1 variance matrix\n",
        "\n"
      ]
    },
    {
      "cell_type": "code",
      "execution_count": null,
      "metadata": {
        "id": "pp0vpMV46U64"
      },
      "outputs": [],
      "source": [
        "#simulation of a pendulum\n",
        "class Pendulum:\n",
        "  '''Pendulum'''\n",
        "  def __init__(\n",
        "    self,\n",
        "    l, #length in meters\n",
        "    angl0, #initial angle in radians\n",
        "    avel0, #initial angular velocity in radians/s\n",
        "    G, #acceleration due to gravity in m/s^2\n",
        "    R, #process noise co-variance 2x2 matrix\n",
        "    Q, #measurement co-variance 1x1\n",
        "    rng_p, #random noise generator for process\n",
        "    rng_m, #random noise generator for measurement\n",
        "  ):\n",
        "    self.angl = angl0\n",
        "    self.avel = avel0\n",
        "    self.l = l\n",
        "    self.G = G\n",
        "    self.R = R\n",
        "    self.Q = Q\n",
        "    self.rng_p = rng_p\n",
        "    self.rng_m = rng_m\n",
        "\n",
        "  def step (\n",
        "      self,\n",
        "      dt #timestep in seconds\n",
        "    ):\n",
        "   \n",
        "    #sample process noise\n",
        "    a_n, v_n = self.rng_p.multivariate_normal([0,0],R)\n",
        "    angl1 = self.avel*dt + self.angl + a_n   \n",
        "    avel1 = -self.G/self.l*math.sin(self.angl)*dt + self.avel + v_n\n",
        "    self.avel = avel1\n",
        "    self.angl = angl1\n",
        "\n",
        "  def getState (self):\n",
        "    '''True State: Useful to calculate RMS error'''\n",
        "    return self.angl, self.avel\n",
        "\n",
        "  def measure (self):\n",
        "    '''Actual measurement of position via a sensor'''\n",
        "    return self.angl + self.rng_m.standard_normal()*self.Q"
      ]
    },
    {
      "cell_type": "markdown",
      "metadata": {
        "id": "Sp_a0Az37Fxy"
      },
      "source": [
        "**Kalman Filter**\n",
        "\n",
        "Linearize around $\\theta = 0$\n",
        "\n",
        "$\\begin{bmatrix}\n",
        "  \\theta_{n+1}\\\\\n",
        "  \\dot{\\theta}_{n+1}\n",
        "\\end{bmatrix}\n",
        " = \n",
        " \\begin{bmatrix}\n",
        "  1 & dt\\\\\n",
        "  -\\frac{G}{l}dt & 1\n",
        "\\end{bmatrix}\n",
        "\\begin{bmatrix}\n",
        "  \\theta_{n}\\\\\n",
        "  \\dot{\\theta}_{n}\n",
        "\\end{bmatrix}\n",
        "+ $ B*u_n + r_n $\n",
        "\n",
        "where $r_n \\sim N(0,R)$ and R is a 2x2 covariance matrix.\n",
        "\n",
        "B is a 2x2 input matrix and u_n is the input at time n\n",
        "\n",
        "Let \n",
        "$\n",
        "A = \\begin{bmatrix}\n",
        "  1 & dt\\\\\n",
        "  -\\frac{G}{l}dt & 1\n",
        "\\end{bmatrix}\n",
        "$ the process matrix.\n",
        "\n",
        "We will model the state as a gaussian as \n",
        "\n",
        "$\n",
        "\\begin{bmatrix}\n",
        "  \\theta_n\\\\\n",
        "  \\dot{\\theta}_n\n",
        "\\end{bmatrix}\n",
        "\\sim N(\\mu_n,P_n)\n",
        "$\n",
        "\n",
        "where\n",
        "\n",
        "$\\mu_n$ is a 2x1 column matrix for the means of the angle and angular velocity and\n",
        "\n",
        "$P_n$ is the 2x2 process covariance matrix\n"
      ]
    },
    {
      "cell_type": "markdown",
      "metadata": {
        "id": "QtoWx2CY10PM"
      },
      "source": [
        "**The Kalman Filter Equations**\n",
        "\n",
        "*Predict*\n",
        "\n",
        "$\n",
        "\\mu_p = A_t \\, \\mu_{t-1}+B_t\\ u_t \n",
        "$\n",
        "\n",
        "$\n",
        "P_p = A_t \\ P_{t-1} A_t^T +R_t\n",
        "$\n",
        "\n",
        "*Gain*\n",
        "\n",
        "$\n",
        "K = P_p \\ C_t^T(C_t \\ P_p \\ C_t^T +Q_t)^{-1}\n",
        "$\n",
        "\n",
        "*Update*\n",
        "\n",
        "$\n",
        "\\mu_{n+1} = \\mu_p+K_t(z_t-C_t \\ \\mu_p)\n",
        "$\n",
        "\n",
        "$\n",
        "P_n = (I-K_t \\ C_t) P_p\n",
        "$"
      ]
    },
    {
      "cell_type": "code",
      "execution_count": null,
      "metadata": {
        "id": "vtaJwAgDax9Z"
      },
      "outputs": [],
      "source": [
        "class KalmanFilter:\n",
        "  ''' Kalman Filter'''\n",
        "  def __init__(\n",
        "    self,\n",
        "    mu0, #initial mean of the state\n",
        "    P0,#Initial State covariance matrix\n",
        "    R, #Motion covariance matrix\n",
        "    Q, #Measurement covariance matrix\n",
        "    A, #motion matrix\n",
        "    B, #input matrix\n",
        "    C, #measurement matrix\n",
        "  ):\n",
        "    self.mu = mu0\n",
        "    self.P = P0\n",
        "    self.R = R\n",
        "    self.Q = Q\n",
        "    self.A = A\n",
        "    self.B = B\n",
        "    self.C = C\n",
        "    self.mu_p = mu0 #predictor's mean\n",
        "    self.P_p = P0  #predictor's covariance\n",
        "\n",
        "  def step (self,u_t, z_t):\n",
        "    '''update the posterior based on the measurement and predicted prior\n",
        "    u_t: input at time t\n",
        "    z : measurement at time t\n",
        "    '''\n",
        "    #prediction Equations\n",
        "    self.mu_p = np.matmul(self.A,self.mu) + np.matmul(self.B,u_t)\n",
        "    self.P_p = np.matmul(np.matmul(self.A,self.P),self.A.transpose()) + self.R\n",
        "    #Kalman. Gain\n",
        "    inv_mat = np.linalg.inv(np.matmul(np.matmul(self.C,self.P_p),self.C.transpose())+self.Q)\n",
        "    K = np.matmul(np.matmul(self.P_p,self.C.transpose()),inv_mat)\n",
        "    #update/correction equation\n",
        "    self.mu = self.mu_p + K*(z_t - np.matmul(self.C,self.mu_p))\n",
        "    self.P = np.matmul((np.eye(2)-np.matmul(K,self.C)),self.P_p)\n",
        "\n",
        "  def probe (self):\n",
        "    ''' return state '''\n",
        "    return self.mu, self.P"
      ]
    },
    {
      "cell_type": "markdown",
      "metadata": {
        "id": "DCYTPUbk6QkW"
      },
      "source": [
        "**Equations for Extended Kalman Filter**\n",
        "\n",
        "$\n",
        "\\mu_{\\theta_{n+1}} = \\mu_{\\dot\\theta_{n}}dt + \\mu_{\\theta_{n}} + (1/ml^2)*u_{n}\n",
        "$\n",
        "\n",
        "$\n",
        "\\mu_{\\dot{\\theta}_{n+1}} = -\\frac{g}{l}sin(\\mu_{\\theta_{n}})dt + \\mu_{\\dot\\theta_{n}}\n",
        "$\n",
        "\n",
        "$\n",
        "A_n = \n",
        "\\begin{bmatrix}\n",
        "1 & dt\\\\\n",
        "{-\\frac{g}{l}cos(\\mu_{\\theta_{n}})dt} & 1\n",
        "\\end{bmatrix}\n",
        "$\n",
        "\n",
        "The filter equations are same as for kalman above - except, A gets replaced with $A_n$"
      ]
    },
    {
      "cell_type": "code",
      "execution_count": null,
      "metadata": {
        "id": "jlAMWw8MGQpK"
      },
      "outputs": [],
      "source": [
        "class ExtendedKalmanFilter_Pendulum:\n",
        "  ''' Extended Kalman Filter for Pendulum'''\n",
        "  def __init__(\n",
        "    self,\n",
        "    mu0, #initial mean of the state\n",
        "    P0,#Initial State covariance matrix\n",
        "    B, #input matrix\n",
        "    R, #Motion covariance matrix\n",
        "    Q, #Measurement covariance matrix\n",
        "    G, #gravity acceleration\n",
        "    l, #length\n",
        "    C, #measurement matrix\n",
        "  ):\n",
        "    self.mu = mu0\n",
        "    self.P = P0\n",
        "    self.B = B\n",
        "    self.R = R\n",
        "    self.Q = Q\n",
        "    self.G = G\n",
        "    self.l = l\n",
        "    self.C = C\n",
        "\n",
        "    self.mu_p = mu0 #predictor's mean\n",
        "    self.P_p = P0  #predictor's covariance\n",
        "\n",
        "  def step (self,dt, u_t, z_t):\n",
        "    '''update the posterior based on the measurement and predicted prior\n",
        "    dt : time step\n",
        "    u_t: input at time t\n",
        "    z : measurement at time t\n",
        "    '''\n",
        "\n",
        "    #prediction Equations\n",
        "    #angle update\n",
        "    self.mu_p[0][0] = self.mu[1][0]*dt + self.mu[0][0]\n",
        "    #anglevelocity update\n",
        "    self.mu_p[1][0] = -(self.G/self.l)*math.sin(self.mu[0][0])*dt + self.mu[1][0]\n",
        "\n",
        "    #linearize about m_p\n",
        "    A = np.array([[1,dt],[-(self.G/self.l)*math.cos(self.mu[1][0])*dt, 1]])\n",
        "    #covarince update\n",
        "    self.P_p = np.matmul(A,np.matmul(self.P,A.transpose())) + self.R\n",
        "\n",
        "\n",
        "    #Kalman. Gain\n",
        "    inv_mat = np.linalg.inv(np.matmul(np.matmul(self.C,self.P_p),self.C.transpose())+self.Q)\n",
        "    K = np.matmul(np.matmul(self.P_p,self.C.transpose()),inv_mat)\n",
        "\n",
        "    #update/correction equation\n",
        "    self.mu = self.mu_p + K*(z_t - np.matmul(self.C,self.mu_p))\n",
        "    self.P = np.matmul((np.eye(2)-np.matmul(K,self.C)),self.P_p)\n",
        "\n",
        "  def probe (self):\n",
        "    ''' return state '''\n",
        "    return self.mu, self.P"
      ]
    },
    {
      "cell_type": "code",
      "execution_count": null,
      "metadata": {
        "colab": {
          "base_uri": "https://localhost:8080/",
          "height": 331
        },
        "id": "4X52uqJg6iiz",
        "outputId": "25e3a4f9-3932-4e5f-e898-999cca9a265b"
      },
      "outputs": [
        {
          "name": "stdout",
          "output_type": "stream",
          "text": [
            "KF RMS Error= 0.15660063182018705\n",
            "EKF RMS Error= 0.003828537633710865\n"
          ]
        },
        {
          "data": {
            "text/plain": [
              "[<matplotlib.lines.Line2D at 0x7f2aad2f4c90>]"
            ]
          },
          "execution_count": 177,
          "metadata": {},
          "output_type": "execute_result"
        },
        {
          "data": {
            "image/png": "[encoded data removed]",
            "text/plain": [
              "<Figure size 432x288 with 1 Axes>"
            ]
          },
          "metadata": {
            "needs_background": "light"
          },
          "output_type": "display_data"
        }
      ],
      "source": [
        "# Comparing the filters\n",
        "\n",
        "#Experiment with different settings of these paramters\n",
        "dt = 0.001     #timestep size\n",
        "numSteps = 2200 #number of time steps for simulation\n",
        "#Process noise variance: R00: angle noise, R11: Velocity noise\n",
        "R = np.diag([0,0])\n",
        "#measurement noise variance\n",
        "Q = [0.01]\n",
        "\n",
        "\n",
        "\n",
        "G=10 #Nm/s^2. \n",
        "l = 1 #1 meter\n",
        "\n",
        "# Instantiate two random number generators - one for process\n",
        "# noise and other for measurement noise. Give seeds to allow\n",
        "# for predictable sequence of random values across multiple runs.\n",
        "# Helps debugging and reproducing results.\n",
        "rng_p = np.random.default_rng(123)\n",
        "rng_m = np.random.default_rng(345)\n",
        "\n",
        "\n",
        "# Create pendulum\n",
        "p = Pendulum(l=l, angl0=math.pi/4, avel0=0, G=G, R=R, Q=Q[0],rng_p=rng_p, rng_m=rng_m)\n",
        "\n",
        "\n",
        "A = np.array([[1,dt],[-G/l*dt, 1]]) #linearization for small angles around 0 used in Kalman Filter\n",
        "C = np.array([[1,0]]) #only angle is measured\n",
        "B = np.array([[0,0],[0,1]])  #allow input only in velocity\n",
        "P0 = np.diag([0.1,0.1])\n",
        "mu0 = np.array([[math.pi/4],[0]])   #initial angle and angular velocity\n",
        "\n",
        "# Instantiate Kalman Filter\n",
        "kf = KalmanFilter(mu0=mu0,A=A, B=B, C=C, P0=P0, R=R, Q=Q)\n",
        "# Instantiate Extended Kalman Filter\n",
        "ekf = ExtendedKalmanFilter_Pendulum(mu0=mu0, B=B, C=C, P0=P0, R=R, Q=Q,G=G,l=l)\n",
        "\n",
        "# Create some book keeping matrices for angle and velocity \n",
        "a = np.zeros(numSteps)\n",
        "v = np.zeros(numSteps)\n",
        "am = np.zeros(numSteps)\n",
        "kferr = np.zeros(numSteps)\n",
        "ekferr = np.zeros(numSteps)\n",
        "kfaerr = np.zeros(numSteps)\n",
        "ekfaerr = np.zeros(numSteps)\n",
        "kfverr = np.zeros(numSteps)\n",
        "ekfverr = np.zeros(numSteps)\n",
        "\n",
        "akf = mu0\n",
        "vkf = P0\n",
        "aekf = mu0\n",
        "vekf = P0\n",
        "fig,ax = plt.subplots(1,1)\n",
        "ax.set_xlabel(\"angle\")\n",
        "ax.set_ylabel(\"angle velocity\")\n",
        "for i in range(numSteps):\n",
        "  p.step(dt)\n",
        "  a[i],v[i] = p.getState() #true state of angle and angular velocity\n",
        "\n",
        "  am[i] = p.measure() #measurement of the angle via sensor (has added noise)\n",
        "\n",
        "  #run kalman filter passing in the measurement of angle\n",
        "  kf.step([[0],[0]], np.atleast_1d(am[i])) \n",
        "  mukf, pkf = kf.probe() #state as estimated by kalman filter\n",
        "\n",
        "  #squared error between estimate and true state\n",
        "  kfaerr[i] = mukf[0][0]-a[i]\n",
        "  kfverr[i] = mukf[1][0]-v[i]\n",
        "\n",
        "  #run EKF passing in the measurement of angle\n",
        "  ekf.step(dt,[[0],[0]], np.atleast_1d(am[i]))\n",
        "  muekf, pekf = ekf.probe()\n",
        "\n",
        "  #squared error between estimate and true\n",
        "  ekfaerr[i] = muekf[0][0]-a[i]\n",
        "  ekfverr[i] = muekf[1][0]-v[i]\n",
        "\n",
        "print(\"KF RMS Error=\", math.sqrt((kfaerr**2+kfverr**2).sum()/numSteps))\n",
        "print(\"EKF RMS Error=\", math.sqrt((ekfaerr**2+ekfverr**2).sum()/numSteps))\n",
        "\n",
        "plt.plot(a,v)"
      ]
    },
    {
      "cell_type": "code",
      "execution_count": null,
      "metadata": {
        "colab": {
          "base_uri": "https://localhost:8080/",
          "height": 279
        },
        "id": "KVEJcBbyFYFx",
        "outputId": "176ad9f9-328f-43c8-ac43-d72454a543cc"
      },
      "outputs": [
        {
          "data": {
            "image/png": "[encoded data removed]",
            "text/plain": [
              "<Figure size 432x288 with 2 Axes>"
            ]
          },
          "metadata": {
            "needs_background": "light"
          },
          "output_type": "display_data"
        }
      ],
      "source": [
        "fig, (ax1,ax2) = plt.subplots(2,1)\n",
        "fig.subplots_adjust(hspace=0.5)\n",
        "t = np.arange(numSteps)\n",
        "ax1.plot(t,kfaerr,'b',ekfaerr,'r')\n",
        "ax1.set_ylabel(\"angle error\")\n",
        "ax1.legend((\"KFerr\", \"EKFerr\"))\n",
        "\n",
        "ax2.plot(t,kfverr,'b',ekfverr,'r')\n",
        "ax2.set_ylabel(\"velocity error\")\n",
        "ax2.set_xlabel(\"timesteps\")\n",
        "ax2.legend((\"KFerr\", \"EKFerr\"))\n",
        "plt.show()"
      ]
    },
    {
      "cell_type": "markdown",
      "metadata": {
        "id": "xgB5-VLZfwjf"
      },
      "source": [
        "\n",
        "\n",
        "**Tabulating the rms error for the two filters**\n",
        "\n",
        "\\begin{array} {|c|c|c|c||c|c|}\n",
        "\\hline\n",
        "dt & R_{00} & R_{01} & Q & KFRMSErr & EKFRMSErr \\\\\n",
        "\\hline\n",
        "0.001 & 0 & 0 & 0.01 & 0.15660063182018705 & 0.003828537633710865  \\\\\n",
        "0.01 & 0 & 0 & 0.01 & 2.8310239322758326 & 0.004802010442919745  \\\\\n",
        "0.001 & 0 & 0.0 & 0.1 & 0.16059848137667068 & 0.01811557558120448  \\\\\n",
        "0.001 & 0 & 0.01 & 0.01 & 0.6179739782582148 & 0.6023113856860389  \\\\\n",
        "0.001 & 0.01 & 0.0 & 0.01 & 56.494675485606784 & 0.05097314767364174  \\\\\n",
        "\\hline\n",
        "\\end{array}"
      ]
    },
    {
      "cell_type": "markdown",
      "metadata": {
        "id": "9QzcI8tjl_xW"
      },
      "source": [
        "**Conclusion**\n",
        "The Kalman filter (KF) is a method based on recursive Bayesian filtering where the noise in your system is assumed Gaussian. The Extended Kalman Filter (EKF) is an extension of the classic Kalman Filter for non-linear systems where non-linearity are approximated using the first or second order derivative.\n",
        "\n",
        "Since EKF can handle non-linearity of model.Hence, we can see the superiority of EKF with respect to Kalman filter. Furthermore, At smaller time steps RMS errors are also lowered upto some extent for both EKF and KF.\n",
        "Noise in the R00 are impacting KF filter adversly in terms of RMS error.\n",
        "\n",
        "In General, The highly noisey impact accuracies of both EKF and KF. \n",
        "\n"
      ]
    }
  ],
  "metadata": {
    "colab": {
      "collapsed_sections": [],
      "name": "KF_and_EKF.ipynb",
      "provenance": []
    },
    "kernelspec": {
      "display_name": "Python 3",
      "name": "python3"
    },
    "language_info": {
      "name": "python"
    }
  },
  "nbformat": 4,
  "nbformat_minor": 0
}